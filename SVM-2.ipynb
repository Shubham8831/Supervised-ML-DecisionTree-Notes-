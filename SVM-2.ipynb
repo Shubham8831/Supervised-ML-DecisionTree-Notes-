{
 "cells": [
  {
   "cell_type": "markdown",
   "id": "679efbd1",
   "metadata": {},
   "source": [
    "# SVM"
   ]
  },
  {
   "cell_type": "markdown",
   "id": "c6beb162",
   "metadata": {},
   "source": [
    "- REGRESSION AND CLASSIFICATION(main use)\n",
    "- classification -- multi class output\n",
    "- follow binary approch (only two class at a time ) # BINARY APPROACH\n",
    "- hyperplane technique (to linearly seperate the data)\n",
    "- if data is not linearly seperable then we use KERNEL\n",
    "\n",
    "###### KERNELS TYPES\n",
    "- Linear:  when data is linearly seperable (fixed rate increase)\n",
    "- Polynomial: when data is slightly non-linear seperable (exponential increase)\n",
    "- rbf(radial basis function): when data is highly non-linear and complex (real world datasets)\n",
    "- sigmoid : S curve decision boundary.\n",
    "    \n",
    "- Decision Boubndary : hypersurface that seperates input patterns into different regions in machine learning"
   ]
  },
  {
   "cell_type": "markdown",
   "id": "d4f31d14",
   "metadata": {},
   "source": [
    "### MARGIN ( C )\n",
    "###### Hard Margin \n",
    "- data linearly seperable\n",
    "- bad for real-world dataset\n",
    "- it will go for perfect classification (can generate problem of offerfitting) it only aims to reduce error\n",
    "\n",
    "###### Soft Margin\n",
    "- Non-linear seperable\n",
    "- good for real world datasets\n",
    "- balance maximize margin and minimize error (less chance of overfitting)\n"
   ]
  },
  {
   "cell_type": "markdown",
   "id": "44488caa",
   "metadata": {},
   "source": [
    "### BINARY APPROACH\n",
    "\n",
    "##### OvA(one vs all) OvR (one vs rest)\n",
    "- Training : i) classifier 1 -> Red vs Not Red, ii) classifier 2 -> Blue vs Not Blue, iii) classifier 3 -> Green vs Not Green\n",
    "- Prediction : The classifier with the highest score / probility\n",
    "- in SVM OvR is by default\n",
    "- when to use : large number of classes, captures complex relationships,image classification --> cat, dog\n",
    "    \n",
    "##### OvO (one vs one)\n",
    "- Training: i) classifier 1 -> Red vs Blue, ii) classifier 2 -> Blue vs Green, iii) classifier 3 -> Green vs Red\n",
    "- Prediction : Voting process -> majority vote is final output\n",
    "- To use OvO we use external code, from sklearn.multiclass import OneVsOneClasssifier, svc = SVC(), model = OneVsOneClassifier(svc),model.fit(x_train,y_train)\n",
    "- when to use : small number of class, captures more complex relationships, image classification --> german shepherd, labra"
   ]
  },
  {
   "cell_type": "code",
   "execution_count": 3,
   "id": "2f0e0f06",
   "metadata": {},
   "outputs": [],
   "source": [
    "import pandas as pd\n",
    "import numpy as np\n",
    "from sklearn import datasets\n",
    "from sklearn.model_selection import train_test_split\n",
    "from sklearn.svm import SVC\n",
    "from sklearn.metrics import accuracy_score, precision_score, recall_score"
   ]
  },
  {
   "cell_type": "code",
   "execution_count": 4,
   "id": "ea343ec5",
   "metadata": {},
   "outputs": [
    {
     "data": {
      "text/html": [
       "<div>\n",
       "<style scoped>\n",
       "    .dataframe tbody tr th:only-of-type {\n",
       "        vertical-align: middle;\n",
       "    }\n",
       "\n",
       "    .dataframe tbody tr th {\n",
       "        vertical-align: top;\n",
       "    }\n",
       "\n",
       "    .dataframe thead th {\n",
       "        text-align: right;\n",
       "    }\n",
       "</style>\n",
       "<table border=\"1\" class=\"dataframe\">\n",
       "  <thead>\n",
       "    <tr style=\"text-align: right;\">\n",
       "      <th></th>\n",
       "      <th>sepal length (cm)</th>\n",
       "      <th>sepal width (cm)</th>\n",
       "      <th>petal length (cm)</th>\n",
       "      <th>petal width (cm)</th>\n",
       "      <th>target</th>\n",
       "    </tr>\n",
       "  </thead>\n",
       "  <tbody>\n",
       "    <tr>\n",
       "      <th>0</th>\n",
       "      <td>5.1</td>\n",
       "      <td>3.5</td>\n",
       "      <td>1.4</td>\n",
       "      <td>0.2</td>\n",
       "      <td>0</td>\n",
       "    </tr>\n",
       "    <tr>\n",
       "      <th>1</th>\n",
       "      <td>4.9</td>\n",
       "      <td>3.0</td>\n",
       "      <td>1.4</td>\n",
       "      <td>0.2</td>\n",
       "      <td>0</td>\n",
       "    </tr>\n",
       "    <tr>\n",
       "      <th>2</th>\n",
       "      <td>4.7</td>\n",
       "      <td>3.2</td>\n",
       "      <td>1.3</td>\n",
       "      <td>0.2</td>\n",
       "      <td>0</td>\n",
       "    </tr>\n",
       "    <tr>\n",
       "      <th>3</th>\n",
       "      <td>4.6</td>\n",
       "      <td>3.1</td>\n",
       "      <td>1.5</td>\n",
       "      <td>0.2</td>\n",
       "      <td>0</td>\n",
       "    </tr>\n",
       "    <tr>\n",
       "      <th>4</th>\n",
       "      <td>5.0</td>\n",
       "      <td>3.6</td>\n",
       "      <td>1.4</td>\n",
       "      <td>0.2</td>\n",
       "      <td>0</td>\n",
       "    </tr>\n",
       "  </tbody>\n",
       "</table>\n",
       "</div>"
      ],
      "text/plain": [
       "   sepal length (cm)  sepal width (cm)  petal length (cm)  petal width (cm)  \\\n",
       "0                5.1               3.5                1.4               0.2   \n",
       "1                4.9               3.0                1.4               0.2   \n",
       "2                4.7               3.2                1.3               0.2   \n",
       "3                4.6               3.1                1.5               0.2   \n",
       "4                5.0               3.6                1.4               0.2   \n",
       "\n",
       "   target  \n",
       "0       0  \n",
       "1       0  \n",
       "2       0  \n",
       "3       0  \n",
       "4       0  "
      ]
     },
     "execution_count": 4,
     "metadata": {},
     "output_type": "execute_result"
    }
   ],
   "source": [
    "iris = datasets.load_iris()\n",
    "\n",
    "df = pd.DataFrame(data = iris.data, columns = iris.feature_names)\n",
    "df[\"target\"] = iris.target\n",
    "\n",
    "df.head()"
   ]
  },
  {
   "cell_type": "code",
   "execution_count": 6,
   "id": "5f2daf7d",
   "metadata": {},
   "outputs": [],
   "source": [
    "x = df.drop(\"target\", axis = 1)\n",
    "y = df[\"target\"]\n",
    "\n",
    "x_train, x_test, y_train, y_test = train_test_split(x,y,test_size = 0.2, random_state = 4, stratify=y)\n",
    "\n",
    "'''The `stratify=y` parameter ensures that the class distribution in your target variable `y`\n",
    "(e.g., percentages of each class) is the same in both the training and test sets. \n",
    "This helps avoid imbalanced splits, especially when your data has uneven classes.\n",
    "\n",
    "### Example:  \n",
    "Suppose you have 100 samples in your dataset:  \n",
    "- **80 samples** belong to Class 0.  \n",
    "- **20 samples** belong to Class 1.  \n",
    "\n",
    "If you split the data into 80% training and 20% testing:  \n",
    "- **Without `stratify=y`**, the split might randomly give:\n",
    "  - Training: 75 samples of Class 0, 5 samples of Class 1.  \n",
    "  - Testing: 5 samples of Class 0, 15 samples of Class 1 (uneven distribution).  \n",
    "\n",
    "- **With `stratify=y`**, the split will preserve the original proportions:  \n",
    "  - Training: 64 samples of Class 0, 16 samples of Class 1.  \n",
    "  - Testing: 16 samples of Class 0, 4 samples of Class 1.  \n",
    "\n",
    "This ensures both splits represent the original class balance.'''\n"
   ]
  },
  {
   "cell_type": "code",
   "execution_count": 7,
   "id": "458c292c",
   "metadata": {},
   "outputs": [
    {
     "data": {
      "text/html": [
       "<style>#sk-container-id-1 {color: black;background-color: white;}#sk-container-id-1 pre{padding: 0;}#sk-container-id-1 div.sk-toggleable {background-color: white;}#sk-container-id-1 label.sk-toggleable__label {cursor: pointer;display: block;width: 100%;margin-bottom: 0;padding: 0.3em;box-sizing: border-box;text-align: center;}#sk-container-id-1 label.sk-toggleable__label-arrow:before {content: \"▸\";float: left;margin-right: 0.25em;color: #696969;}#sk-container-id-1 label.sk-toggleable__label-arrow:hover:before {color: black;}#sk-container-id-1 div.sk-estimator:hover label.sk-toggleable__label-arrow:before {color: black;}#sk-container-id-1 div.sk-toggleable__content {max-height: 0;max-width: 0;overflow: hidden;text-align: left;background-color: #f0f8ff;}#sk-container-id-1 div.sk-toggleable__content pre {margin: 0.2em;color: black;border-radius: 0.25em;background-color: #f0f8ff;}#sk-container-id-1 input.sk-toggleable__control:checked~div.sk-toggleable__content {max-height: 200px;max-width: 100%;overflow: auto;}#sk-container-id-1 input.sk-toggleable__control:checked~label.sk-toggleable__label-arrow:before {content: \"▾\";}#sk-container-id-1 div.sk-estimator input.sk-toggleable__control:checked~label.sk-toggleable__label {background-color: #d4ebff;}#sk-container-id-1 div.sk-label input.sk-toggleable__control:checked~label.sk-toggleable__label {background-color: #d4ebff;}#sk-container-id-1 input.sk-hidden--visually {border: 0;clip: rect(1px 1px 1px 1px);clip: rect(1px, 1px, 1px, 1px);height: 1px;margin: -1px;overflow: hidden;padding: 0;position: absolute;width: 1px;}#sk-container-id-1 div.sk-estimator {font-family: monospace;background-color: #f0f8ff;border: 1px dotted black;border-radius: 0.25em;box-sizing: border-box;margin-bottom: 0.5em;}#sk-container-id-1 div.sk-estimator:hover {background-color: #d4ebff;}#sk-container-id-1 div.sk-parallel-item::after {content: \"\";width: 100%;border-bottom: 1px solid gray;flex-grow: 1;}#sk-container-id-1 div.sk-label:hover label.sk-toggleable__label {background-color: #d4ebff;}#sk-container-id-1 div.sk-serial::before {content: \"\";position: absolute;border-left: 1px solid gray;box-sizing: border-box;top: 0;bottom: 0;left: 50%;z-index: 0;}#sk-container-id-1 div.sk-serial {display: flex;flex-direction: column;align-items: center;background-color: white;padding-right: 0.2em;padding-left: 0.2em;position: relative;}#sk-container-id-1 div.sk-item {position: relative;z-index: 1;}#sk-container-id-1 div.sk-parallel {display: flex;align-items: stretch;justify-content: center;background-color: white;position: relative;}#sk-container-id-1 div.sk-item::before, #sk-container-id-1 div.sk-parallel-item::before {content: \"\";position: absolute;border-left: 1px solid gray;box-sizing: border-box;top: 0;bottom: 0;left: 50%;z-index: -1;}#sk-container-id-1 div.sk-parallel-item {display: flex;flex-direction: column;z-index: 1;position: relative;background-color: white;}#sk-container-id-1 div.sk-parallel-item:first-child::after {align-self: flex-end;width: 50%;}#sk-container-id-1 div.sk-parallel-item:last-child::after {align-self: flex-start;width: 50%;}#sk-container-id-1 div.sk-parallel-item:only-child::after {width: 0;}#sk-container-id-1 div.sk-dashed-wrapped {border: 1px dashed gray;margin: 0 0.4em 0.5em 0.4em;box-sizing: border-box;padding-bottom: 0.4em;background-color: white;}#sk-container-id-1 div.sk-label label {font-family: monospace;font-weight: bold;display: inline-block;line-height: 1.2em;}#sk-container-id-1 div.sk-label-container {text-align: center;}#sk-container-id-1 div.sk-container {/* jupyter's `normalize.less` sets `[hidden] { display: none; }` but bootstrap.min.css set `[hidden] { display: none !important; }` so we also need the `!important` here to be able to override the default hidden behavior on the sphinx rendered scikit-learn.org. See: https://github.com/scikit-learn/scikit-learn/issues/21755 */display: inline-block !important;position: relative;}#sk-container-id-1 div.sk-text-repr-fallback {display: none;}</style><div id=\"sk-container-id-1\" class=\"sk-top-container\"><div class=\"sk-text-repr-fallback\"><pre>SVC(kernel=&#x27;linear&#x27;)</pre><b>In a Jupyter environment, please rerun this cell to show the HTML representation or trust the notebook. <br />On GitHub, the HTML representation is unable to render, please try loading this page with nbviewer.org.</b></div><div class=\"sk-container\" hidden><div class=\"sk-item\"><div class=\"sk-estimator sk-toggleable\"><input class=\"sk-toggleable__control sk-hidden--visually\" id=\"sk-estimator-id-1\" type=\"checkbox\" checked><label for=\"sk-estimator-id-1\" class=\"sk-toggleable__label sk-toggleable__label-arrow\">SVC</label><div class=\"sk-toggleable__content\"><pre>SVC(kernel=&#x27;linear&#x27;)</pre></div></div></div></div></div>"
      ],
      "text/plain": [
       "SVC(kernel='linear')"
      ]
     },
     "execution_count": 7,
     "metadata": {},
     "output_type": "execute_result"
    }
   ],
   "source": [
    "svc_model = SVC(kernel = 'linear') \n",
    "# model = OneVsOneClassifier(svc_model) # use when we use OvO approch\n",
    "svc_model.fit(x_train, y_train)"
   ]
  },
  {
   "cell_type": "code",
   "execution_count": 8,
   "id": "e7634394",
   "metadata": {},
   "outputs": [],
   "source": [
    "y_pred = svc_model.predict(x_test)"
   ]
  },
  {
   "cell_type": "code",
   "execution_count": 11,
   "id": "a2bf2073",
   "metadata": {},
   "outputs": [
    {
     "name": "stdout",
     "output_type": "stream",
     "text": [
      "Accuracy: 0.93\n",
      "Precision: 0.93\n",
      "Recall: 0.93\n"
     ]
    }
   ],
   "source": [
    "accuracy = accuracy_score(y_test, y_pred)\n",
    "precision = precision_score(y_test, y_pred, average = 'macro')\n",
    "recall = recall_score(y_test, y_pred, average = 'macro')\n",
    "\"\"\"In the context of `recall_score` (or similar metrics), the `average='macro'` parameter determines how the recall is calculated when dealing with multiple classes in a classification problem. Here's what it means:\n",
    "\n",
    "### **`average='macro'`:**\n",
    "- The recall is computed **independently for each class**.\n",
    "- The **unweighted mean** of these individual recall values is taken.\n",
    "- This treats all classes **equally**, regardless of their size (i.e., the number of samples in each class).\n",
    "\n",
    "### Example:\n",
    "Suppose you have three classes with the following recalls:\n",
    "- Class 0: Recall = 0.8  \n",
    "- Class 1: Recall = 0.6  \n",
    "- Class 2: Recall = 0.9  \n",
    "\n",
    "With `average='macro'`:\n",
    "\\[\n",
    "\\text{Macro Recall} = \\frac{0.8 + 0.6 + 0.9}{3} = 0.7667\n",
    "\\]\n",
    "\n",
    "### **When to Use `average='macro'`:**\n",
    "- When you want to treat all classes equally, even if some are underrepresented (small class sizes).\n",
    "- It gives a general sense of the model's performance across all classes without biasing toward the majority class.\n",
    "\n",
    "### Other `average` Options:\n",
    "- **`'micro'`:** Considers all classes together (weighted by sample size).\n",
    "- **`'weighted'`:** Averages recall for each class, weighted by the class's sample size.\n",
    "- **`None`**: Returns recall for each class individually.\"\"\"\n",
    "\n",
    "\n",
    "\n",
    "print(f\"Accuracy: {accuracy:.2f}\")\n",
    "print(f\"Precision: {precision:.2f}\")\n",
    "print(f\"Recall: {recall:.2f}\")"
   ]
  },
  {
   "cell_type": "markdown",
   "id": "5b7db13b",
   "metadata": {},
   "source": [
    "##### Parameters \n",
    "- c : default = 1 (soft margin), float [more high c then hard margin]\n",
    "- kernel : default = rbf(for non linear), linear, poly, sigmoid\n",
    "- gamma : scale(default), auto, manual_value(high gamma value van lead to more precise boundary)"
   ]
  },
  {
   "cell_type": "markdown",
   "id": "ee645b93",
   "metadata": {},
   "source": [
    "##### When to use SVM :\n",
    "- Beast in Binary Classification\n",
    "- works well with high dimentional data\n",
    "- image and text calssification can be done\n",
    "- works well with small and midimum size data sets \n",
    " \n",
    "##### When not to use:\n",
    "- not good for large data sets\n",
    "- slow \n",
    "- bad performance if data has outliears"
   ]
  }
 ],
 "metadata": {
  "kernelspec": {
   "display_name": "Python 3 (ipykernel)",
   "language": "python",
   "name": "python3"
  },
  "language_info": {
   "codemirror_mode": {
    "name": "ipython",
    "version": 3
   },
   "file_extension": ".py",
   "mimetype": "text/x-python",
   "name": "python",
   "nbconvert_exporter": "python",
   "pygments_lexer": "ipython3",
   "version": "3.10.9"
  }
 },
 "nbformat": 4,
 "nbformat_minor": 5
}
