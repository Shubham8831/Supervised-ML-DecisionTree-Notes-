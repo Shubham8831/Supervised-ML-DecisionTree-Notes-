{
 "cells": [
  {
   "cell_type": "markdown",
   "id": "0c95bcf2",
   "metadata": {},
   "source": [
    "# Random Forest\n",
    "- Regression and classification\n",
    "- introduced by -> leo brieman and adele cutler 2001\n",
    "- no assumption\n",
    "- OBB error estimation - > out of bag(internal validation data)[seperate accuracy for each DT can be calculated with obb score parameter]\n",
    "\n",
    "### Mathematical Working\n",
    "- create samples \n",
    "- calculate DT for each samples(model training complete)\n",
    "- prediction : apply inputs to each DT "
   ]
  },
  {
   "cell_type": "code",
   "execution_count": 1,
   "id": "19a16288",
   "metadata": {},
   "outputs": [],
   "source": [
    "import pandas as pd\n",
    "from sklearn.datasets import load_iris\n",
    "from sklearn.model_selection import train_test_split\n",
    "from sklearn.ensemble import RandomForestClassifier\n",
    "from sklearn.metrics import accuracy_score"
   ]
  },
  {
   "cell_type": "code",
   "execution_count": 2,
   "id": "a5c3e502",
   "metadata": {},
   "outputs": [],
   "source": [
    "iris = load_iris()\n",
    "x = pd.DataFrame(iris.data, columns= iris.feature_names) # Feature matrix\n",
    "y = pd.Series(iris.target) "
   ]
  },
  {
   "cell_type": "code",
   "execution_count": 5,
   "id": "a43e5f63",
   "metadata": {},
   "outputs": [],
   "source": [
    "x_train, x_test, y_train, y_test = train_test_split(x,y,test_size = 0.2 , random_state = 42)\n",
    "\n",
    "rf_model = RandomForestClassifier()\n",
    "\n",
    "rf_model.fit(x_train,y_train)\n",
    "\n",
    "y_pred = rf_model.predict(x_test)"
   ]
  },
  {
   "cell_type": "code",
   "execution_count": 6,
   "id": "dff3acb6",
   "metadata": {},
   "outputs": [
    {
     "name": "stdout",
     "output_type": "stream",
     "text": [
      "Accuracy: 1.0\n"
     ]
    }
   ],
   "source": [
    "accuracy = accuracy_score(y_test,y_pred)\n",
    "print(f\"Accuracy: {accuracy}\")"
   ]
  },
  {
   "cell_type": "markdown",
   "id": "db1222db",
   "metadata": {},
   "source": [
    "### Parameter-RandomForestClassifier"
   ]
  },
  {
   "cell_type": "markdown",
   "id": "265faf49",
   "metadata": {},
   "source": [
    "- n_estimatorsint, default=100   \n",
    "\"The number of Decision trees needed in the forest.\"         \n",
    "\n",
    "- bootstrap: bool, default=True   \n",
    "Whether bootstrap(making DT) samples are used when building trees. If False, the whole dataset is used to build each tree.\n",
    "- oob_score: bool or callable, default=False     \n",
    "Whether to use out-of-bag samples to estimate the generalization score. By default, accuracy_score is used. [Only available if bootstrap=True.]\n",
    "\n",
    "- criterion{“gini”, “entropy”, “log_loss”}, default=”gini”\n",
    "\n",
    "- max_depth: int, default=None\n",
    "\n",
    "- max_features{“sqrt”, “log2”, None}, int or float, default=”sqrt”"
   ]
  },
  {
   "cell_type": "markdown",
   "id": "2bae9a85",
   "metadata": {},
   "source": [
    "### Parameter-RandomForestClassifier"
   ]
  },
  {
   "cell_type": "markdown",
   "id": "2a7c2989",
   "metadata": {},
   "source": [
    "- criterion{“squared_error”, “absolute_error”, “friedman_mse”, “poisson”}, default=”squared_error”"
   ]
  },
  {
   "cell_type": "markdown",
   "id": "6654ee1a",
   "metadata": {},
   "source": [
    "### When to use: \n",
    "- complex / real world / non-linear dataset\n",
    "- very large datasets\n",
    "- they can perform good even when we have missing values\n",
    "- prevent overfitting\n",
    "\n",
    "### When not to use:\n",
    "- high dimentional data with less rows / data points\n",
    "- when majority features are categorical \n",
    "- highly computaional intensive [large-scale problem ke liyea nahi use karte hai]\n",
    "\n",
    "##### Random Forest is also know as \" Black Box Model \" "
   ]
  }
 ],
 "metadata": {
  "kernelspec": {
   "display_name": "Python 3 (ipykernel)",
   "language": "python",
   "name": "python3"
  },
  "language_info": {
   "codemirror_mode": {
    "name": "ipython",
    "version": 3
   },
   "file_extension": ".py",
   "mimetype": "text/x-python",
   "name": "python",
   "nbconvert_exporter": "python",
   "pygments_lexer": "ipython3",
   "version": "3.10.9"
  }
 },
 "nbformat": 4,
 "nbformat_minor": 5
}
