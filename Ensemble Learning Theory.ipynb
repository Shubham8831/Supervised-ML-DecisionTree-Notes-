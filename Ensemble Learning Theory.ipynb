{
 "cells": [
  {
   "cell_type": "markdown",
   "id": "4b00c764",
   "metadata": {},
   "source": [
    "####  Combiantion of Multiple Model\n",
    "- multiple decision tree (DT1, DT2, DT3)-> RandomForest\n",
    "#### Types\n",
    "- BAGGING\n",
    "    - Random Forest\n",
    "- BOOSTING\n",
    "    - Gradient boost\n",
    "    - XG boost\n",
    "    - Catboost\n",
    "    - Adaboost\n",
    "    - LGBM"
   ]
  },
  {
   "cell_type": "markdown",
   "id": "f635934f",
   "metadata": {},
   "source": [
    "#### BAGGING\n",
    "- also know as bootstrap aggreation(bootstrap - statistical method for sampling data, aggreation - combining)\n",
    "- original data -> sample1 -> model1 -> op1\n",
    "- regression - mean of o/p\n",
    "- classification - voting(on vategories predicted)\n",
    "- parallel learning model : multiple models trained idependently\n",
    "- when to use? -> reduce variance (variance)\n",
    "\n",
    "#### BOOSTING\n",
    "- we have 3 weak learners\n",
    "- original data -> 1st weak learner (5 errors) -> 2nd weak learner (3 errors) -> 3rd weak learner(1 error)\n",
    "- final prediction combines all the output but importance is given to more accurate weak learner\n",
    "- it is also know as \"sequential learning model\"\n",
    "- when to use ? reduce bias(underfitting)\n",
    "- problem : prone to overfitting if parameters not set well\n",
    "- *Boosting outperforms bagging in case of complex datasets*"
   ]
  }
 ],
 "metadata": {
  "kernelspec": {
   "display_name": "Python 3 (ipykernel)",
   "language": "python",
   "name": "python3"
  },
  "language_info": {
   "codemirror_mode": {
    "name": "ipython",
    "version": 3
   },
   "file_extension": ".py",
   "mimetype": "text/x-python",
   "name": "python",
   "nbconvert_exporter": "python",
   "pygments_lexer": "ipython3",
   "version": "3.10.9"
  }
 },
 "nbformat": 4,
 "nbformat_minor": 5
}
